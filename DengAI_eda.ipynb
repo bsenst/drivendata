{
  "nbformat": 4,
  "nbformat_minor": 0,
  "metadata": {
    "colab": {
      "provenance": [],
      "authorship_tag": "ABX9TyPxmVBTnQX56YHoRVFhdHdP",
      "include_colab_link": true
    },
    "kernelspec": {
      "name": "python3",
      "display_name": "Python 3"
    },
    "language_info": {
      "name": "python"
    }
  },
  "cells": [
    {
      "cell_type": "markdown",
      "metadata": {
        "id": "view-in-github",
        "colab_type": "text"
      },
      "source": [
        "<a href=\"https://colab.research.google.com/github/bsenst/drivendata/blob/main/DengAI_eda.ipynb\" target=\"_parent\"><img src=\"https://colab.research.google.com/assets/colab-badge.svg\" alt=\"Open In Colab\"/></a>"
      ]
    },
    {
      "cell_type": "code",
      "source": [
        "# https://www.drivendata.org/competitions/44/dengai-predicting-disease-spread/data/\n",
        "# https://arxiv.org/abs/1606.07781\n",
        "\n",
        "# Submission Format\tThe format that the submission to the competition must be in.\n",
        "# Test Data Features The features for the testing dataset\n",
        "# Training Data Features The features for the training dataset.\n",
        "# Training Data Labels The number of dengue cases for each row in the training dataset.\n",
        "\n",
        "import os\n",
        "import pandas as pd\n",
        "import matplotlib.pyplot as plt"
      ],
      "metadata": {
        "id": "3ITYogWzswXF"
      },
      "execution_count": 46,
      "outputs": []
    },
    {
      "cell_type": "code",
      "execution_count": 22,
      "metadata": {
        "colab": {
          "base_uri": "https://localhost:8080/"
        },
        "id": "632T0od2j4jv",
        "outputId": "2652fbe2-dbab-480e-8b61-fe7734f5989d"
      },
      "outputs": [
        {
          "output_type": "stream",
          "name": "stdout",
          "text": [
            "(1456, 4)\n",
            "(1456, 24)\n",
            "(416, 4)\n",
            "(416, 24)\n"
          ]
        }
      ],
      "source": [
        "files = os.listdir()\n",
        "\n",
        "labels_train = pd.read_csv(files[1])\n",
        "print(labels_train.shape)\n",
        "features_train = pd.read_csv(files[2])\n",
        "print(features_train.shape)\n",
        "submission_format = pd.read_csv(files[3])\n",
        "print(submission_format.shape)\n",
        "features_test = pd.read_csv(files[4])\n",
        "print(features_test.shape)"
      ]
    },
    {
      "cell_type": "code",
      "source": [
        "labels_train"
      ],
      "metadata": {
        "colab": {
          "base_uri": "https://localhost:8080/",
          "height": 424
        },
        "id": "fYmdyl7GrTv-",
        "outputId": "26289695-f8f4-4d89-a231-5ca018586064"
      },
      "execution_count": 31,
      "outputs": [
        {
          "output_type": "execute_result",
          "data": {
            "text/plain": [
              "     city  year  weekofyear  total_cases\n",
              "0      sj  1990          18            4\n",
              "1      sj  1990          19            5\n",
              "2      sj  1990          20            4\n",
              "3      sj  1990          21            3\n",
              "4      sj  1990          22            6\n",
              "...   ...   ...         ...          ...\n",
              "1451   iq  2010          21            5\n",
              "1452   iq  2010          22            8\n",
              "1453   iq  2010          23            1\n",
              "1454   iq  2010          24            1\n",
              "1455   iq  2010          25            4\n",
              "\n",
              "[1456 rows x 4 columns]"
            ],
            "text/html": [
              "\n",
              "  <div id=\"df-ac8fcf4c-f631-4f33-a875-ccee2db13664\">\n",
              "    <div class=\"colab-df-container\">\n",
              "      <div>\n",
              "<style scoped>\n",
              "    .dataframe tbody tr th:only-of-type {\n",
              "        vertical-align: middle;\n",
              "    }\n",
              "\n",
              "    .dataframe tbody tr th {\n",
              "        vertical-align: top;\n",
              "    }\n",
              "\n",
              "    .dataframe thead th {\n",
              "        text-align: right;\n",
              "    }\n",
              "</style>\n",
              "<table border=\"1\" class=\"dataframe\">\n",
              "  <thead>\n",
              "    <tr style=\"text-align: right;\">\n",
              "      <th></th>\n",
              "      <th>city</th>\n",
              "      <th>year</th>\n",
              "      <th>weekofyear</th>\n",
              "      <th>total_cases</th>\n",
              "    </tr>\n",
              "  </thead>\n",
              "  <tbody>\n",
              "    <tr>\n",
              "      <th>0</th>\n",
              "      <td>sj</td>\n",
              "      <td>1990</td>\n",
              "      <td>18</td>\n",
              "      <td>4</td>\n",
              "    </tr>\n",
              "    <tr>\n",
              "      <th>1</th>\n",
              "      <td>sj</td>\n",
              "      <td>1990</td>\n",
              "      <td>19</td>\n",
              "      <td>5</td>\n",
              "    </tr>\n",
              "    <tr>\n",
              "      <th>2</th>\n",
              "      <td>sj</td>\n",
              "      <td>1990</td>\n",
              "      <td>20</td>\n",
              "      <td>4</td>\n",
              "    </tr>\n",
              "    <tr>\n",
              "      <th>3</th>\n",
              "      <td>sj</td>\n",
              "      <td>1990</td>\n",
              "      <td>21</td>\n",
              "      <td>3</td>\n",
              "    </tr>\n",
              "    <tr>\n",
              "      <th>4</th>\n",
              "      <td>sj</td>\n",
              "      <td>1990</td>\n",
              "      <td>22</td>\n",
              "      <td>6</td>\n",
              "    </tr>\n",
              "    <tr>\n",
              "      <th>...</th>\n",
              "      <td>...</td>\n",
              "      <td>...</td>\n",
              "      <td>...</td>\n",
              "      <td>...</td>\n",
              "    </tr>\n",
              "    <tr>\n",
              "      <th>1451</th>\n",
              "      <td>iq</td>\n",
              "      <td>2010</td>\n",
              "      <td>21</td>\n",
              "      <td>5</td>\n",
              "    </tr>\n",
              "    <tr>\n",
              "      <th>1452</th>\n",
              "      <td>iq</td>\n",
              "      <td>2010</td>\n",
              "      <td>22</td>\n",
              "      <td>8</td>\n",
              "    </tr>\n",
              "    <tr>\n",
              "      <th>1453</th>\n",
              "      <td>iq</td>\n",
              "      <td>2010</td>\n",
              "      <td>23</td>\n",
              "      <td>1</td>\n",
              "    </tr>\n",
              "    <tr>\n",
              "      <th>1454</th>\n",
              "      <td>iq</td>\n",
              "      <td>2010</td>\n",
              "      <td>24</td>\n",
              "      <td>1</td>\n",
              "    </tr>\n",
              "    <tr>\n",
              "      <th>1455</th>\n",
              "      <td>iq</td>\n",
              "      <td>2010</td>\n",
              "      <td>25</td>\n",
              "      <td>4</td>\n",
              "    </tr>\n",
              "  </tbody>\n",
              "</table>\n",
              "<p>1456 rows × 4 columns</p>\n",
              "</div>\n",
              "      <button class=\"colab-df-convert\" onclick=\"convertToInteractive('df-ac8fcf4c-f631-4f33-a875-ccee2db13664')\"\n",
              "              title=\"Convert this dataframe to an interactive table.\"\n",
              "              style=\"display:none;\">\n",
              "        \n",
              "  <svg xmlns=\"http://www.w3.org/2000/svg\" height=\"24px\"viewBox=\"0 0 24 24\"\n",
              "       width=\"24px\">\n",
              "    <path d=\"M0 0h24v24H0V0z\" fill=\"none\"/>\n",
              "    <path d=\"M18.56 5.44l.94 2.06.94-2.06 2.06-.94-2.06-.94-.94-2.06-.94 2.06-2.06.94zm-11 1L8.5 8.5l.94-2.06 2.06-.94-2.06-.94L8.5 2.5l-.94 2.06-2.06.94zm10 10l.94 2.06.94-2.06 2.06-.94-2.06-.94-.94-2.06-.94 2.06-2.06.94z\"/><path d=\"M17.41 7.96l-1.37-1.37c-.4-.4-.92-.59-1.43-.59-.52 0-1.04.2-1.43.59L10.3 9.45l-7.72 7.72c-.78.78-.78 2.05 0 2.83L4 21.41c.39.39.9.59 1.41.59.51 0 1.02-.2 1.41-.59l7.78-7.78 2.81-2.81c.8-.78.8-2.07 0-2.86zM5.41 20L4 18.59l7.72-7.72 1.47 1.35L5.41 20z\"/>\n",
              "  </svg>\n",
              "      </button>\n",
              "      \n",
              "  <style>\n",
              "    .colab-df-container {\n",
              "      display:flex;\n",
              "      flex-wrap:wrap;\n",
              "      gap: 12px;\n",
              "    }\n",
              "\n",
              "    .colab-df-convert {\n",
              "      background-color: #E8F0FE;\n",
              "      border: none;\n",
              "      border-radius: 50%;\n",
              "      cursor: pointer;\n",
              "      display: none;\n",
              "      fill: #1967D2;\n",
              "      height: 32px;\n",
              "      padding: 0 0 0 0;\n",
              "      width: 32px;\n",
              "    }\n",
              "\n",
              "    .colab-df-convert:hover {\n",
              "      background-color: #E2EBFA;\n",
              "      box-shadow: 0px 1px 2px rgba(60, 64, 67, 0.3), 0px 1px 3px 1px rgba(60, 64, 67, 0.15);\n",
              "      fill: #174EA6;\n",
              "    }\n",
              "\n",
              "    [theme=dark] .colab-df-convert {\n",
              "      background-color: #3B4455;\n",
              "      fill: #D2E3FC;\n",
              "    }\n",
              "\n",
              "    [theme=dark] .colab-df-convert:hover {\n",
              "      background-color: #434B5C;\n",
              "      box-shadow: 0px 1px 3px 1px rgba(0, 0, 0, 0.15);\n",
              "      filter: drop-shadow(0px 1px 2px rgba(0, 0, 0, 0.3));\n",
              "      fill: #FFFFFF;\n",
              "    }\n",
              "  </style>\n",
              "\n",
              "      <script>\n",
              "        const buttonEl =\n",
              "          document.querySelector('#df-ac8fcf4c-f631-4f33-a875-ccee2db13664 button.colab-df-convert');\n",
              "        buttonEl.style.display =\n",
              "          google.colab.kernel.accessAllowed ? 'block' : 'none';\n",
              "\n",
              "        async function convertToInteractive(key) {\n",
              "          const element = document.querySelector('#df-ac8fcf4c-f631-4f33-a875-ccee2db13664');\n",
              "          const dataTable =\n",
              "            await google.colab.kernel.invokeFunction('convertToInteractive',\n",
              "                                                     [key], {});\n",
              "          if (!dataTable) return;\n",
              "\n",
              "          const docLinkHtml = 'Like what you see? Visit the ' +\n",
              "            '<a target=\"_blank\" href=https://colab.research.google.com/notebooks/data_table.ipynb>data table notebook</a>'\n",
              "            + ' to learn more about interactive tables.';\n",
              "          element.innerHTML = '';\n",
              "          dataTable['output_type'] = 'display_data';\n",
              "          await google.colab.output.renderOutput(dataTable, element);\n",
              "          const docLink = document.createElement('div');\n",
              "          docLink.innerHTML = docLinkHtml;\n",
              "          element.appendChild(docLink);\n",
              "        }\n",
              "      </script>\n",
              "    </div>\n",
              "  </div>\n",
              "  "
            ]
          },
          "metadata": {},
          "execution_count": 31
        }
      ]
    },
    {
      "cell_type": "code",
      "source": [
        "# https://www.google.com/search?q=Iquitos\n",
        "# https://www.google.com/search?q=San+Juan\n",
        "\n",
        "labels_train.city.unique()"
      ],
      "metadata": {
        "colab": {
          "base_uri": "https://localhost:8080/"
        },
        "id": "99BibdG-rZU_",
        "outputId": "68d8f51a-e66b-4212-fcd7-237a0033fd88"
      },
      "execution_count": 32,
      "outputs": [
        {
          "output_type": "execute_result",
          "data": {
            "text/plain": [
              "array(['sj', 'iq'], dtype=object)"
            ]
          },
          "metadata": {},
          "execution_count": 32
        }
      ]
    },
    {
      "cell_type": "code",
      "source": [
        "print(sum(labels_train.year == features_train.year), sum(labels_train.weekofyear == features_train.weekofyear))"
      ],
      "metadata": {
        "colab": {
          "base_uri": "https://localhost:8080/"
        },
        "id": "f5yhWWn4rcxT",
        "outputId": "bfa782a4-23f6-4c3a-a4a7-5bb3a08e8631"
      },
      "execution_count": 38,
      "outputs": [
        {
          "output_type": "stream",
          "name": "stdout",
          "text": [
            "1456 1456\n"
          ]
        }
      ]
    },
    {
      "cell_type": "code",
      "source": [
        "features_train[\"week_start_date\"] = pd.to_datetime(features_train[\"week_start_date\"])\n",
        "features_train[\"total_cases\"] = labels_train[\"total_cases\"]\n",
        "features_train.info()"
      ],
      "metadata": {
        "colab": {
          "base_uri": "https://localhost:8080/"
        },
        "id": "f__2liShlqj8",
        "outputId": "6efa9df8-59cf-48ff-d9d1-f605dc56c665"
      },
      "execution_count": 39,
      "outputs": [
        {
          "output_type": "stream",
          "name": "stdout",
          "text": [
            "<class 'pandas.core.frame.DataFrame'>\n",
            "RangeIndex: 1456 entries, 0 to 1455\n",
            "Data columns (total 25 columns):\n",
            " #   Column                                 Non-Null Count  Dtype         \n",
            "---  ------                                 --------------  -----         \n",
            " 0   city                                   1456 non-null   object        \n",
            " 1   year                                   1456 non-null   int64         \n",
            " 2   weekofyear                             1456 non-null   int64         \n",
            " 3   week_start_date                        1456 non-null   datetime64[ns]\n",
            " 4   ndvi_ne                                1262 non-null   float64       \n",
            " 5   ndvi_nw                                1404 non-null   float64       \n",
            " 6   ndvi_se                                1434 non-null   float64       \n",
            " 7   ndvi_sw                                1434 non-null   float64       \n",
            " 8   precipitation_amt_mm                   1443 non-null   float64       \n",
            " 9   reanalysis_air_temp_k                  1446 non-null   float64       \n",
            " 10  reanalysis_avg_temp_k                  1446 non-null   float64       \n",
            " 11  reanalysis_dew_point_temp_k            1446 non-null   float64       \n",
            " 12  reanalysis_max_air_temp_k              1446 non-null   float64       \n",
            " 13  reanalysis_min_air_temp_k              1446 non-null   float64       \n",
            " 14  reanalysis_precip_amt_kg_per_m2        1446 non-null   float64       \n",
            " 15  reanalysis_relative_humidity_percent   1446 non-null   float64       \n",
            " 16  reanalysis_sat_precip_amt_mm           1443 non-null   float64       \n",
            " 17  reanalysis_specific_humidity_g_per_kg  1446 non-null   float64       \n",
            " 18  reanalysis_tdtr_k                      1446 non-null   float64       \n",
            " 19  station_avg_temp_c                     1413 non-null   float64       \n",
            " 20  station_diur_temp_rng_c                1413 non-null   float64       \n",
            " 21  station_max_temp_c                     1436 non-null   float64       \n",
            " 22  station_min_temp_c                     1442 non-null   float64       \n",
            " 23  station_precip_mm                      1434 non-null   float64       \n",
            " 24  total_cases                            1456 non-null   int64         \n",
            "dtypes: datetime64[ns](1), float64(20), int64(3), object(1)\n",
            "memory usage: 284.5+ KB\n"
          ]
        }
      ]
    },
    {
      "cell_type": "code",
      "source": [
        "features_train.week_start_date[features_train.city==\"sj\"]"
      ],
      "metadata": {
        "colab": {
          "base_uri": "https://localhost:8080/"
        },
        "id": "1B-sszyOtxGx",
        "outputId": "72806d74-4e18-4a63-d9d3-d90433565bbc"
      },
      "execution_count": 53,
      "outputs": [
        {
          "output_type": "execute_result",
          "data": {
            "text/plain": [
              "0     1990-04-30\n",
              "1     1990-05-07\n",
              "2     1990-05-14\n",
              "3     1990-05-21\n",
              "4     1990-05-28\n",
              "         ...    \n",
              "931   2008-03-25\n",
              "932   2008-04-01\n",
              "933   2008-04-08\n",
              "934   2008-04-15\n",
              "935   2008-04-22\n",
              "Name: week_start_date, Length: 936, dtype: datetime64[ns]"
            ]
          },
          "metadata": {},
          "execution_count": 53
        }
      ]
    },
    {
      "cell_type": "code",
      "source": [
        "features_train.week_start_date[features_train.city==\"iq\"]"
      ],
      "metadata": {
        "colab": {
          "base_uri": "https://localhost:8080/"
        },
        "id": "H3EWiwVOt5Mj",
        "outputId": "cec63ca2-308f-4418-8c18-fd677af030b3"
      },
      "execution_count": 54,
      "outputs": [
        {
          "output_type": "execute_result",
          "data": {
            "text/plain": [
              "936    2000-07-01\n",
              "937    2000-07-08\n",
              "938    2000-07-15\n",
              "939    2000-07-22\n",
              "940    2000-07-29\n",
              "          ...    \n",
              "1451   2010-05-28\n",
              "1452   2010-06-04\n",
              "1453   2010-06-11\n",
              "1454   2010-06-18\n",
              "1455   2010-06-25\n",
              "Name: week_start_date, Length: 520, dtype: datetime64[ns]"
            ]
          },
          "metadata": {},
          "execution_count": 54
        }
      ]
    },
    {
      "cell_type": "code",
      "source": [
        "sj = features_train[features_train.city==\"sj\"]\n",
        "iq = features_train[features_train.city==\"iq\"]\n",
        "\n",
        "plt.figure(figsize=(14,6))\n",
        "plt.plot(sj.week_start_date, sj.total_cases)\n",
        "plt.plot(iq.week_start_date, iq.total_cases)\n",
        "plt.title(\"Total Cases\")\n",
        "plt.legend([\"San Juan, Puerto Rico\", \"Iquitos, Peru\"])\n",
        "plt.show()"
      ],
      "metadata": {
        "colab": {
          "base_uri": "https://localhost:8080/",
          "height": 390
        },
        "id": "t0bXONbYsUWD",
        "outputId": "c55f1f0d-9e31-4f90-f60c-90a6bdc408ea"
      },
      "execution_count": 57,
      "outputs": [
        {
          "output_type": "display_data",
          "data": {
            "text/plain": [
              "<Figure size 1008x432 with 1 Axes>"
            ],
            "image/png": "[encoded data removed]"
          },
          "metadata": {
            "needs_background": "light"
          }
        }
      ]
    }
  ]
}