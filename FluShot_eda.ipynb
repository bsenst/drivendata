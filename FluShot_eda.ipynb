{
  "nbformat": 4,
  "nbformat_minor": 0,
  "metadata": {
    "colab": {
      "provenance": [],
      "authorship_tag": "ABX9TyNNwTVM2Yh304Zu7W/kbPrw",
      "include_colab_link": true
    },
    "kernelspec": {
      "name": "python3",
      "display_name": "Python 3"
    },
    "language_info": {
      "name": "python"
    }
  },
  "cells": [
    {
      "cell_type": "markdown",
      "metadata": {
        "id": "view-in-github",
        "colab_type": "text"
      },
      "source": [
        "<a href=\"https://colab.research.google.com/github/bsenst/drivendata/blob/main/FluShot_eda.ipynb\" target=\"_parent\"><img src=\"https://colab.research.google.com/assets/colab-badge.svg\" alt=\"Open In Colab\"/></a>"
      ]
    },
    {
      "cell_type": "code",
      "execution_count": null,
      "metadata": {
        "id": "YlpOut0_v2mb"
      },
      "outputs": [],
      "source": [
        "# https://arxiv.org/abs/1606.07781\n",
        "# https://www.drivendata.org/competitions/66/flu-shot-learning/data/\n",
        "\n",
        "# ! wget \"https://drivendata-prod.s3.amazonaws.com/data/66/public/submission_format.csv?...\"\n",
        "# ! wget \"https://drivendata-prod.s3.amazonaws.com/data/66/public/training_set_features.csv?...\"\n",
        "# ! wget \"https://drivendata-prod.s3.amazonaws.com/data/66/public/training_set_labels.csv?...\"\n",
        "# ! wget \"https://drivendata-prod.s3.amazonaws.com/data/66/public/test_set_features.csv?...\""
      ]
    },
    {
      "cell_type": "code",
      "source": [
        "import os\n",
        "import pandas as pd\n",
        "import matplotlib.pyplot as plt\n",
        "import seaborn as sns\n",
        "\n",
        "files = os.listdir()\n",
        "\n",
        "training_set_labels = pd.read_csv(files[1])\n",
        "submission_format = pd.read_csv(files[2])\n",
        "test_set_features = pd.read_csv(files[3])\n",
        "training_set_features = pd.read_csv(files[4])"
      ],
      "metadata": {
        "id": "URFXErkbwb_S"
      },
      "execution_count": 7,
      "outputs": []
    },
    {
      "cell_type": "code",
      "source": [
        "(training_set_labels.respondent_id == training_set_features.respondent_id).value_counts()"
      ],
      "metadata": {
        "colab": {
          "base_uri": "https://localhost:8080/"
        },
        "id": "8qxJgn9JxRi1",
        "outputId": "b7f0f125-9631-4d72-da7c-4dcb4fd6c7c1"
      },
      "execution_count": 42,
      "outputs": [
        {
          "output_type": "execute_result",
          "data": {
            "text/plain": [
              "True    26707\n",
              "Name: respondent_id, dtype: int64"
            ]
          },
          "metadata": {},
          "execution_count": 42
        }
      ]
    },
    {
      "cell_type": "code",
      "source": [
        "import warnings\n",
        "warnings.filterwarnings('ignore')\n",
        "\n",
        "training_set_features[\"h1n1_vaccine\"] = training_set_labels.h1n1_vaccine\n",
        "training_set_features[\"seasonal_vaccine\"] = training_set_labels.seasonal_vaccine\n",
        "\n",
        "h1n1_vaccine = training_set_features[training_set_features[\"h1n1_vaccine\"]==1]\n",
        "h1n1_no_vaccine = training_set_features[training_set_features[\"h1n1_vaccine\"]==0]\n",
        "\n",
        "seasonal_vaccine = training_set_features[training_set_features[\"seasonal_vaccine\"]==1]\n",
        "seasonal_no_vaccine = training_set_features[training_set_features[\"seasonal_vaccine\"]==0]\n",
        "\n",
        "feature_list = list(training_set_features.columns)\n",
        "\n",
        "means_vaccine = list(h1n1_vaccine.mean())\n",
        "means_no_vaccine = list(h1n1_no_vaccine.mean())\n",
        "\n",
        "means_seasonal = list(seasonal_vaccine.mean())\n",
        "means_no_seasonal = list(seasonal_no_vaccine.mean())\n",
        "\n",
        "print(\"\".ljust(30), \n",
        "      \"h1n1\".ljust(10), \n",
        "      \"no h1n1\".ljust(10),\n",
        "      \"seasonal\".ljust(10), \n",
        "      \"no seasonal\".ljust(10))\n",
        "\n",
        "for i in range(1, len(feature_list)-12):\n",
        "  print(feature_list[i].ljust(30), \n",
        "        str(means_vaccine[i])[:4].ljust(10), \n",
        "        str(means_no_vaccine[i])[:4].ljust(10),\n",
        "        str(means_seasonal[i])[:4].ljust(10), \n",
        "        str(means_no_seasonal[i])[:4].ljust(10))"
      ],
      "metadata": {
        "colab": {
          "base_uri": "https://localhost:8080/"
        },
        "id": "U7Q7IpKS27Wm",
        "outputId": "f5815a7c-57cc-4224-c1dc-367082967f75"
      },
      "execution_count": 67,
      "outputs": [
        {
          "output_type": "stream",
          "name": "stdout",
          "text": [
            "                               h1n1       no h1n1    seasonal   no seasonal\n",
            "h1n1_concern                   1.83       1.56       1.76       1.48      \n",
            "h1n1_knowledge                 1.40       1.22       1.34       1.19      \n",
            "behavioral_antiviral_meds      0.06       0.04       0.05       0.04      \n",
            "behavioral_avoidance           0.76       0.71       0.76       0.69      \n",
            "behavioral_face_mask           0.10       0.05       0.08       0.05      \n",
            "behavioral_wash_hands          0.88       0.81       0.87       0.78      \n",
            "behavioral_large_gatherings    0.37       0.35       0.39       0.32      \n",
            "behavioral_outside_home        0.35       0.33       0.36       0.31      \n",
            "behavioral_touch_face          0.74       0.65       0.73       0.62      \n",
            "doctor_recc_h1n1               0.52       0.13       0.30       0.14      \n",
            "doctor_recc_seasonal           0.51       0.27       0.51       0.16      \n",
            "chronic_med_condition          0.36       0.26       0.36       0.21      \n",
            "child_under_6_months           0.11       0.07       0.08       0.07      \n",
            "health_worker                  0.21       0.08       0.15       0.07      \n",
            "health_insurance               0.94       0.85       0.94       0.81      \n",
            "opinion_h1n1_vacc_effective    4.37       3.70       4.07       3.65      \n",
            "opinion_h1n1_risk              3.14       2.12       2.64       2.08      \n",
            "opinion_h1n1_sick_from_vacc    2.55       2.30       2.39       2.32      \n",
            "opinion_seas_vacc_effective    4.40       3.92       4.44       3.65      \n",
            "opinion_seas_risk              3.40       2.53       3.29       2.21      \n",
            "opinion_seas_sick_from_vacc    2.13       2.11       2.03       2.19      \n",
            "age_group                      0.89       0.88       0.83       0.93      \n",
            "education                      0.52       0.53       0.42       0.63      \n",
            "race                           1.0        0.0        0.37       0.06      \n",
            "sex                            0.82       0.36       1.0        0.0       \n"
          ]
        }
      ]
    }
  ]
}